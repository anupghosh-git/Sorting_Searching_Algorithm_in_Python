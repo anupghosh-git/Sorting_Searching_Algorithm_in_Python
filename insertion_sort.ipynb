{
 "cells": [
  {
   "cell_type": "markdown",
   "metadata": {},
   "source": [
    "# Insertion Sort"
   ]
  },
  {
   "cell_type": "code",
   "execution_count": 1,
   "metadata": {},
   "outputs": [],
   "source": [
    "from re import I\n",
    "\n",
    "\n",
    "def insertion_sort(myList):\n",
    "\n",
    "    for index in range(1, len(myList) - 1):\n",
    "\n",
    "        key_value = myList[index]\n",
    "\n",
    "        immediate_left_index = index - 1\n",
    "\n",
    "        while immediate_left_index >= 0 and myList[immediate_left_index] > key_value:\n",
    "\n",
    "            myList[immediate_left_index + 1]  = myList[immediate_left_index]\n",
    "            immediate_left_index -= 1\n",
    "\n",
    "        myList[immediate_left_index + 1] = key_value\n",
    "\n",
    "    return myList    "
   ]
  },
  {
   "cell_type": "code",
   "execution_count": 2,
   "metadata": {},
   "outputs": [
    {
     "data": {
      "text/plain": [
       "[-1, 0, 1, 2, 3, 3, 4, 5, 34, 44, 55, 66, 77, 88, 98, -100]"
      ]
     },
     "execution_count": 2,
     "metadata": {},
     "output_type": "execute_result"
    }
   ],
   "source": [
    "myList = [0,88,3,4,5,1,2,34,98,77,66,55,44,3,-1,-100]\n",
    "insertion_sort(myList)"
   ]
  },
  {
   "cell_type": "code",
   "execution_count": null,
   "metadata": {},
   "outputs": [],
   "source": []
  }
 ],
 "metadata": {
  "kernelspec": {
   "display_name": "Python 3.9.7 ('base')",
   "language": "python",
   "name": "python3"
  },
  "language_info": {
   "codemirror_mode": {
    "name": "ipython",
    "version": 3
   },
   "file_extension": ".py",
   "mimetype": "text/x-python",
   "name": "python",
   "nbconvert_exporter": "python",
   "pygments_lexer": "ipython3",
   "version": "3.9.7"
  },
  "orig_nbformat": 4,
  "vscode": {
   "interpreter": {
    "hash": "b3d12a30c639c3a494e062d6c4cc70e232cb1c584d6a6e220e40135ff73d5b15"
   }
  }
 },
 "nbformat": 4,
 "nbformat_minor": 2
}
