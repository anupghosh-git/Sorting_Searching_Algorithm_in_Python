{
 "cells": [
  {
   "cell_type": "markdown",
   "metadata": {},
   "source": [
    "# Quick Sort"
   ]
  },
  {
   "cell_type": "code",
   "execution_count": 24,
   "metadata": {},
   "outputs": [],
   "source": [
    "\n",
    "from random import randint\n",
    "\n",
    "def quick_sort(myList):\n",
    "\n",
    "    if len(myList) <= 1:\n",
    "        return myList\n",
    "\n",
    "    smaller, equal, bigger = [], [], []\n",
    "\n",
    "    #pivot_element = myList[0]\n",
    "    pivot_element = myList[randint(0, len(myList) - 1)]\n",
    "\n",
    "    for item in myList:\n",
    "\n",
    "        if item < pivot_element:\n",
    "            smaller.append(item)\n",
    "        elif item == pivot_element:\n",
    "            equal.append(item)\n",
    "        elif item > pivot_element:\n",
    "            bigger.append(item)  \n",
    "    \n",
    "    return quick_sort(smaller) + equal +  quick_sort(bigger)"
   ]
  },
  {
   "cell_type": "code",
   "execution_count": 25,
   "metadata": {},
   "outputs": [
    {
     "data": {
      "text/plain": [
       "[-1000, -99, -33, -1, 1, 2, 2, 4, 5, 9, 44, 99, 99, 100]"
      ]
     },
     "execution_count": 25,
     "metadata": {},
     "output_type": "execute_result"
    }
   ],
   "source": [
    "myList = [4,1,5,9,-1,-99,2,2,99,-1000,99,100,44,-33]\n",
    "quick_sort(myList)"
   ]
  },
  {
   "cell_type": "code",
   "execution_count": null,
   "metadata": {},
   "outputs": [],
   "source": []
  },
  {
   "cell_type": "code",
   "execution_count": null,
   "metadata": {},
   "outputs": [],
   "source": []
  }
 ],
 "metadata": {
  "kernelspec": {
   "display_name": "Python 3.9.7 ('base')",
   "language": "python",
   "name": "python3"
  },
  "language_info": {
   "codemirror_mode": {
    "name": "ipython",
    "version": 3
   },
   "file_extension": ".py",
   "mimetype": "text/x-python",
   "name": "python",
   "nbconvert_exporter": "python",
   "pygments_lexer": "ipython3",
   "version": "3.9.7"
  },
  "orig_nbformat": 4,
  "vscode": {
   "interpreter": {
    "hash": "b3d12a30c639c3a494e062d6c4cc70e232cb1c584d6a6e220e40135ff73d5b15"
   }
  }
 },
 "nbformat": 4,
 "nbformat_minor": 2
}
