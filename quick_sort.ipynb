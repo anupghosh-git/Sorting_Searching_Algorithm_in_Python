{
 "cells": [
  {
   "cell_type": "markdown",
   "metadata": {},
   "source": [
    "# Quick Sort"
   ]
  },
  {
   "cell_type": "code",
   "execution_count": 26,
   "metadata": {},
   "outputs": [],
   "source": [
    "from random import randint\n",
    "\n",
    "def quick_sort(myList):\n",
    "\n",
    "    if len(myList) <= 1:\n",
    "        return myList\n",
    "\n",
    "    smaller, equal, bigger = [], [], []\n",
    "\n",
    "    pivot_element = (randint(0, len(myList) - 1))\n",
    "\n",
    "    for item in myList:\n",
    "\n",
    "        if item < pivot_element:\n",
    "            smaller.append(item)\n",
    "        elif item == pivot_element:\n",
    "            equal.append(item)\n",
    "        elif item > pivot_element:\n",
    "            bigger.append(item)  \n",
    "\n",
    "\n",
    "    return quick_sort(smaller) + equal + quick_sort(bigger)  "
   ]
  },
  {
   "cell_type": "code",
   "execution_count": 27,
   "metadata": {},
   "outputs": [
    {
     "ename": "RecursionError",
     "evalue": "maximum recursion depth exceeded while calling a Python object",
     "output_type": "error",
     "traceback": [
      "\u001b[0;31m---------------------------------------------------------------------------\u001b[0m",
      "\u001b[0;31mRecursionError\u001b[0m                            Traceback (most recent call last)",
      "\u001b[1;32m/home/anup_ghosh/sorting_searching/Sorting_Searching_Algorithm_in_Python/quick_sort.ipynb Cell 3\u001b[0m in \u001b[0;36m<cell line: 2>\u001b[0;34m()\u001b[0m\n\u001b[1;32m      <a href='vscode-notebook-cell://wsl%2Bubuntu/home/anup_ghosh/sorting_searching/Sorting_Searching_Algorithm_in_Python/quick_sort.ipynb#W2sdnNjb2RlLXJlbW90ZQ%3D%3D?line=0'>1</a>\u001b[0m myList \u001b[39m=\u001b[39m [\u001b[39m4\u001b[39m,\u001b[39m1\u001b[39m,\u001b[39m5\u001b[39m]\n\u001b[0;32m----> <a href='vscode-notebook-cell://wsl%2Bubuntu/home/anup_ghosh/sorting_searching/Sorting_Searching_Algorithm_in_Python/quick_sort.ipynb#W2sdnNjb2RlLXJlbW90ZQ%3D%3D?line=1'>2</a>\u001b[0m quick_sort(myList)\n",
      "\u001b[1;32m/home/anup_ghosh/sorting_searching/Sorting_Searching_Algorithm_in_Python/quick_sort.ipynb Cell 3\u001b[0m in \u001b[0;36mquick_sort\u001b[0;34m(myList)\u001b[0m\n\u001b[1;32m     <a href='vscode-notebook-cell://wsl%2Bubuntu/home/anup_ghosh/sorting_searching/Sorting_Searching_Algorithm_in_Python/quick_sort.ipynb#W2sdnNjb2RlLXJlbW90ZQ%3D%3D?line=17'>18</a>\u001b[0m     \u001b[39melif\u001b[39;00m item \u001b[39m>\u001b[39m pivot_element:\n\u001b[1;32m     <a href='vscode-notebook-cell://wsl%2Bubuntu/home/anup_ghosh/sorting_searching/Sorting_Searching_Algorithm_in_Python/quick_sort.ipynb#W2sdnNjb2RlLXJlbW90ZQ%3D%3D?line=18'>19</a>\u001b[0m         bigger\u001b[39m.\u001b[39mappend(item)  \n\u001b[0;32m---> <a href='vscode-notebook-cell://wsl%2Bubuntu/home/anup_ghosh/sorting_searching/Sorting_Searching_Algorithm_in_Python/quick_sort.ipynb#W2sdnNjb2RlLXJlbW90ZQ%3D%3D?line=21'>22</a>\u001b[0m \u001b[39mreturn\u001b[39;00m quick_sort(smaller) \u001b[39m+\u001b[39m equal \u001b[39m+\u001b[39m quick_sort(bigger)\n",
      "\u001b[1;32m/home/anup_ghosh/sorting_searching/Sorting_Searching_Algorithm_in_Python/quick_sort.ipynb Cell 3\u001b[0m in \u001b[0;36mquick_sort\u001b[0;34m(myList)\u001b[0m\n\u001b[1;32m     <a href='vscode-notebook-cell://wsl%2Bubuntu/home/anup_ghosh/sorting_searching/Sorting_Searching_Algorithm_in_Python/quick_sort.ipynb#W2sdnNjb2RlLXJlbW90ZQ%3D%3D?line=17'>18</a>\u001b[0m     \u001b[39melif\u001b[39;00m item \u001b[39m>\u001b[39m pivot_element:\n\u001b[1;32m     <a href='vscode-notebook-cell://wsl%2Bubuntu/home/anup_ghosh/sorting_searching/Sorting_Searching_Algorithm_in_Python/quick_sort.ipynb#W2sdnNjb2RlLXJlbW90ZQ%3D%3D?line=18'>19</a>\u001b[0m         bigger\u001b[39m.\u001b[39mappend(item)  \n\u001b[0;32m---> <a href='vscode-notebook-cell://wsl%2Bubuntu/home/anup_ghosh/sorting_searching/Sorting_Searching_Algorithm_in_Python/quick_sort.ipynb#W2sdnNjb2RlLXJlbW90ZQ%3D%3D?line=21'>22</a>\u001b[0m \u001b[39mreturn\u001b[39;00m quick_sort(smaller) \u001b[39m+\u001b[39m equal \u001b[39m+\u001b[39m quick_sort(bigger)\n",
      "    \u001b[0;31m[... skipping similar frames: quick_sort at line 22 (2966 times)]\u001b[0m\n",
      "\u001b[1;32m/home/anup_ghosh/sorting_searching/Sorting_Searching_Algorithm_in_Python/quick_sort.ipynb Cell 3\u001b[0m in \u001b[0;36mquick_sort\u001b[0;34m(myList)\u001b[0m\n\u001b[1;32m     <a href='vscode-notebook-cell://wsl%2Bubuntu/home/anup_ghosh/sorting_searching/Sorting_Searching_Algorithm_in_Python/quick_sort.ipynb#W2sdnNjb2RlLXJlbW90ZQ%3D%3D?line=17'>18</a>\u001b[0m     \u001b[39melif\u001b[39;00m item \u001b[39m>\u001b[39m pivot_element:\n\u001b[1;32m     <a href='vscode-notebook-cell://wsl%2Bubuntu/home/anup_ghosh/sorting_searching/Sorting_Searching_Algorithm_in_Python/quick_sort.ipynb#W2sdnNjb2RlLXJlbW90ZQ%3D%3D?line=18'>19</a>\u001b[0m         bigger\u001b[39m.\u001b[39mappend(item)  \n\u001b[0;32m---> <a href='vscode-notebook-cell://wsl%2Bubuntu/home/anup_ghosh/sorting_searching/Sorting_Searching_Algorithm_in_Python/quick_sort.ipynb#W2sdnNjb2RlLXJlbW90ZQ%3D%3D?line=21'>22</a>\u001b[0m \u001b[39mreturn\u001b[39;00m quick_sort(smaller) \u001b[39m+\u001b[39m equal \u001b[39m+\u001b[39m quick_sort(bigger)\n",
      "\u001b[1;32m/home/anup_ghosh/sorting_searching/Sorting_Searching_Algorithm_in_Python/quick_sort.ipynb Cell 3\u001b[0m in \u001b[0;36mquick_sort\u001b[0;34m(myList)\u001b[0m\n\u001b[1;32m      <a href='vscode-notebook-cell://wsl%2Bubuntu/home/anup_ghosh/sorting_searching/Sorting_Searching_Algorithm_in_Python/quick_sort.ipynb#W2sdnNjb2RlLXJlbW90ZQ%3D%3D?line=5'>6</a>\u001b[0m     \u001b[39mreturn\u001b[39;00m myList\n\u001b[1;32m      <a href='vscode-notebook-cell://wsl%2Bubuntu/home/anup_ghosh/sorting_searching/Sorting_Searching_Algorithm_in_Python/quick_sort.ipynb#W2sdnNjb2RlLXJlbW90ZQ%3D%3D?line=7'>8</a>\u001b[0m smaller, equal, bigger \u001b[39m=\u001b[39m [], [], []\n\u001b[0;32m---> <a href='vscode-notebook-cell://wsl%2Bubuntu/home/anup_ghosh/sorting_searching/Sorting_Searching_Algorithm_in_Python/quick_sort.ipynb#W2sdnNjb2RlLXJlbW90ZQ%3D%3D?line=9'>10</a>\u001b[0m pivot_element \u001b[39m=\u001b[39m (randint(\u001b[39m0\u001b[39;49m, \u001b[39mlen\u001b[39;49m(myList) \u001b[39m-\u001b[39;49m \u001b[39m1\u001b[39;49m))\n\u001b[1;32m     <a href='vscode-notebook-cell://wsl%2Bubuntu/home/anup_ghosh/sorting_searching/Sorting_Searching_Algorithm_in_Python/quick_sort.ipynb#W2sdnNjb2RlLXJlbW90ZQ%3D%3D?line=11'>12</a>\u001b[0m \u001b[39mfor\u001b[39;00m item \u001b[39min\u001b[39;00m myList:\n\u001b[1;32m     <a href='vscode-notebook-cell://wsl%2Bubuntu/home/anup_ghosh/sorting_searching/Sorting_Searching_Algorithm_in_Python/quick_sort.ipynb#W2sdnNjb2RlLXJlbW90ZQ%3D%3D?line=13'>14</a>\u001b[0m     \u001b[39mif\u001b[39;00m item \u001b[39m<\u001b[39m pivot_element:\n",
      "File \u001b[0;32m~/miniconda3/lib/python3.9/random.py:338\u001b[0m, in \u001b[0;36mRandom.randint\u001b[0;34m(self, a, b)\u001b[0m\n\u001b[1;32m    334\u001b[0m \u001b[39mdef\u001b[39;00m \u001b[39mrandint\u001b[39m(\u001b[39mself\u001b[39m, a, b):\n\u001b[1;32m    335\u001b[0m     \u001b[39m\"\"\"Return random integer in range [a, b], including both end points.\u001b[39;00m\n\u001b[1;32m    336\u001b[0m \u001b[39m    \"\"\"\u001b[39;00m\n\u001b[0;32m--> 338\u001b[0m     \u001b[39mreturn\u001b[39;00m \u001b[39mself\u001b[39;49m\u001b[39m.\u001b[39;49mrandrange(a, b\u001b[39m+\u001b[39;49m\u001b[39m1\u001b[39;49m)\n",
      "File \u001b[0;32m~/miniconda3/lib/python3.9/random.py:314\u001b[0m, in \u001b[0;36mRandom.randrange\u001b[0;34m(self, start, stop, step)\u001b[0m\n\u001b[1;32m    312\u001b[0m width \u001b[39m=\u001b[39m istop \u001b[39m-\u001b[39m istart\n\u001b[1;32m    313\u001b[0m \u001b[39mif\u001b[39;00m step \u001b[39m==\u001b[39m \u001b[39m1\u001b[39m \u001b[39mand\u001b[39;00m width \u001b[39m>\u001b[39m \u001b[39m0\u001b[39m:\n\u001b[0;32m--> 314\u001b[0m     \u001b[39mreturn\u001b[39;00m istart \u001b[39m+\u001b[39m \u001b[39mself\u001b[39;49m\u001b[39m.\u001b[39;49m_randbelow(width)\n\u001b[1;32m    315\u001b[0m \u001b[39mif\u001b[39;00m step \u001b[39m==\u001b[39m \u001b[39m1\u001b[39m:\n\u001b[1;32m    316\u001b[0m     \u001b[39mraise\u001b[39;00m \u001b[39mValueError\u001b[39;00m(\u001b[39m\"\u001b[39m\u001b[39mempty range for randrange() (\u001b[39m\u001b[39m%d\u001b[39;00m\u001b[39m, \u001b[39m\u001b[39m%d\u001b[39;00m\u001b[39m, \u001b[39m\u001b[39m%d\u001b[39;00m\u001b[39m)\u001b[39m\u001b[39m\"\u001b[39m \u001b[39m%\u001b[39m (istart, istop, width))\n",
      "File \u001b[0;32m~/miniconda3/lib/python3.9/random.py:243\u001b[0m, in \u001b[0;36mRandom._randbelow_with_getrandbits\u001b[0;34m(self, n)\u001b[0m\n\u001b[1;32m    241\u001b[0m     \u001b[39mreturn\u001b[39;00m \u001b[39m0\u001b[39m\n\u001b[1;32m    242\u001b[0m getrandbits \u001b[39m=\u001b[39m \u001b[39mself\u001b[39m\u001b[39m.\u001b[39mgetrandbits\n\u001b[0;32m--> 243\u001b[0m k \u001b[39m=\u001b[39m n\u001b[39m.\u001b[39;49mbit_length()  \u001b[39m# don't use (n-1) here because n can be 1\u001b[39;00m\n\u001b[1;32m    244\u001b[0m r \u001b[39m=\u001b[39m getrandbits(k)  \u001b[39m# 0 <= r < 2**k\u001b[39;00m\n\u001b[1;32m    245\u001b[0m \u001b[39mwhile\u001b[39;00m r \u001b[39m>\u001b[39m\u001b[39m=\u001b[39m n:\n",
      "\u001b[0;31mRecursionError\u001b[0m: maximum recursion depth exceeded while calling a Python object"
     ]
    }
   ],
   "source": [
    "myList = [4,1,5]\n",
    "quick_sort(myList)"
   ]
  },
  {
   "cell_type": "code",
   "execution_count": null,
   "metadata": {},
   "outputs": [],
   "source": []
  },
  {
   "cell_type": "code",
   "execution_count": null,
   "metadata": {},
   "outputs": [],
   "source": []
  }
 ],
 "metadata": {
  "kernelspec": {
   "display_name": "Python 3.9.7 ('base')",
   "language": "python",
   "name": "python3"
  },
  "language_info": {
   "codemirror_mode": {
    "name": "ipython",
    "version": 3
   },
   "file_extension": ".py",
   "mimetype": "text/x-python",
   "name": "python",
   "nbconvert_exporter": "python",
   "pygments_lexer": "ipython3",
   "version": "3.9.7"
  },
  "orig_nbformat": 4,
  "vscode": {
   "interpreter": {
    "hash": "b3d12a30c639c3a494e062d6c4cc70e232cb1c584d6a6e220e40135ff73d5b15"
   }
  }
 },
 "nbformat": 4,
 "nbformat_minor": 2
}
