{
 "cells": [
  {
   "cell_type": "markdown",
   "metadata": {},
   "source": [
    "# Bubble Sort\n"
   ]
  },
  {
   "cell_type": "code",
   "execution_count": 1,
   "metadata": {},
   "outputs": [],
   "source": [
    "def bubble_sort(myList):\n",
    "    sawpped = False\n",
    "    for index_1st_loop in range(len(myList) - 1):\n",
    "\n",
    "        for index_2nd_loop in range(0, len(myList) -index_1st_loop -1):\n",
    "\n",
    "            if myList[index_2nd_loop] > myList[index_2nd_loop + 1]:\n",
    "                sawpped = True\n",
    "                (myList[index_2nd_loop], myList[index_2nd_loop + 1]) = (myList[index_2nd_loop + 1], myList[index_2nd_loop])\n",
    "        \n",
    "\n",
    "        if not sawpped:\n",
    "            return\n",
    "\n",
    "            \n"
   ]
  },
  {
   "cell_type": "code",
   "execution_count": 3,
   "metadata": {},
   "outputs": [
    {
     "data": {
      "text/plain": [
       "[-4, -2, 1, 2, 3, 67, 83, 90]"
      ]
     },
     "execution_count": 3,
     "metadata": {},
     "output_type": "execute_result"
    }
   ],
   "source": [
    "myList = [90,2,3,1,67,83,-2,-4]\n",
    "bubble_sort(myList)\n",
    "myList"
   ]
  },
  {
   "cell_type": "code",
   "execution_count": null,
   "metadata": {},
   "outputs": [],
   "source": []
  }
 ],
 "metadata": {
  "kernelspec": {
   "display_name": "Python 3.9.7 ('base')",
   "language": "python",
   "name": "python3"
  },
  "language_info": {
   "codemirror_mode": {
    "name": "ipython",
    "version": 3
   },
   "file_extension": ".py",
   "mimetype": "text/x-python",
   "name": "python",
   "nbconvert_exporter": "python",
   "pygments_lexer": "ipython3",
   "version": "3.9.7"
  },
  "orig_nbformat": 4,
  "vscode": {
   "interpreter": {
    "hash": "b3d12a30c639c3a494e062d6c4cc70e232cb1c584d6a6e220e40135ff73d5b15"
   }
  }
 },
 "nbformat": 4,
 "nbformat_minor": 2
}
