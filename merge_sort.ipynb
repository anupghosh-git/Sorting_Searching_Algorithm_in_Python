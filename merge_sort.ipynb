{
 "cells": [
  {
   "cell_type": "markdown",
   "metadata": {},
   "source": [
    "# Merge Sort"
   ]
  },
  {
   "cell_type": "code",
   "execution_count": 9,
   "metadata": {},
   "outputs": [
    {
     "name": "stdout",
     "output_type": "stream",
     "text": [
      "Length of list:  1\n",
      "m value:  0\n"
     ]
    }
   ],
   "source": [
    "def merge(myList,l,m,r):\n",
    "    # sub list length\n",
    "    n1 = m - l + 1\n",
    "    n2 = r - m\n",
    "\n",
    "    # sub list define\n",
    "    lList = [0] * n1\n",
    "    rList = [0] * n2\n",
    "\n",
    "    # copying data from main list to sub list\n",
    "    for i in range (0, n1):\n",
    "        lList[i] = myList[l + i]\n",
    "\n",
    "    for i in range(0, n2):\n",
    "        rList[i] = myList[m + 1 + i]\n",
    "\n",
    "    # sub lists and main list index initialization\n",
    "    i,j,k = 0,0,l\n",
    "\n",
    "    # merge operation: merging two sublists to main list\n",
    "    while i < n1 and j < n2:\n",
    "        if lList[i] < rList[j]:\n",
    "            myList[k] = lList[i]\n",
    "            i +=1\n",
    "        else:\n",
    "            myList[k] = rList[j]\n",
    "            j += 1\n",
    "        k += 1\n",
    "\n",
    "    # copying rest of the left sublist's element to main list\n",
    "    while i < n1:\n",
    "        myList[k] = lList[i]\n",
    "        i += 1\n",
    "        k +=1\n",
    "\n",
    "    # copying rest of the right sublist's element to main list\n",
    "    while j < n2:\n",
    "        myList[k] = rList[j]\n",
    "        j += 1\n",
    "        k +=1    \n",
    "\n",
    "\n",
    "def merge_sort(myList, l, r):\n",
    "\n",
    "    if l < r:\n",
    "\n",
    "        m = l + (r - l) // 2\n",
    "\n",
    "\n",
    "        merge_sort(myList, l, m)\n",
    "        merge_sort(myList, m + 1, r)\n",
    "\n",
    "        merge(myList, l, m, r)\n",
    "\n",
    "\n",
    "myList = [88,22,5,6,11,2,33,4,5,66,7,88,9,-1,-2,-4]\n",
    "print('Before sort: ', myList)\n",
    "merge_sort(myList, 0, len(myList) - 1)\n",
    "print('After sort: ', myList)\n",
    "\n"
   ]
  },
  {
   "cell_type": "code",
   "execution_count": null,
   "metadata": {},
   "outputs": [],
   "source": []
  }
 ],
 "metadata": {
  "kernelspec": {
   "display_name": "Python 3.9.7 ('base')",
   "language": "python",
   "name": "python3"
  },
  "language_info": {
   "codemirror_mode": {
    "name": "ipython",
    "version": 3
   },
   "file_extension": ".py",
   "mimetype": "text/x-python",
   "name": "python",
   "nbconvert_exporter": "python",
   "pygments_lexer": "ipython3",
   "version": "3.9.7"
  },
  "orig_nbformat": 4,
  "vscode": {
   "interpreter": {
    "hash": "b3d12a30c639c3a494e062d6c4cc70e232cb1c584d6a6e220e40135ff73d5b15"
   }
  }
 },
 "nbformat": 4,
 "nbformat_minor": 2
}
