{
 "cells": [
  {
   "cell_type": "markdown",
   "metadata": {},
   "source": [
    "# Merge Sort"
   ]
  },
  {
   "cell_type": "code",
   "execution_count": null,
   "metadata": {},
   "outputs": [],
   "source": [
    "def merge(myList,l,m,r):\n",
    "    # sub list length\n",
    "    n1 = m - l + 1\n",
    "    n2 = r - m\n",
    "\n",
    "    # sub list define\n",
    "    lList = [0] * n1\n",
    "    rList = [0] * n2\n",
    "\n",
    "    # copying data from main list to sub list\n",
    "    for i in range (0, n1):\n",
    "        lList[i] = myList[l + i]\n",
    "\n",
    "    for i in range(0, n2):\n",
    "        rList[i] = myList[m + 1 + i]\n",
    "\n",
    "    # sub lists and main list index initialization\n",
    "    i,j,k = 0,0,1\n",
    "\n",
    "    # merge operation: merging two sublists to main list\n",
    "    while i < n1 and j < n2:\n",
    "        if lList[i] < rList[j]:\n",
    "            myList[k] = lList[i]\n",
    "            i +=1\n",
    "        else:\n",
    "            myList[k] = rList[j]\n",
    "            j += 1\n",
    "        k += 1\n",
    "\n",
    "    # copying rest of the left sublist's element to main list\n",
    "    while i < n1:\n",
    "        myList[k] = lList[i]\n",
    "        i += 1\n",
    "        k +=1\n",
    "\n",
    "    # copying rest of the right sublist's element to main list\n",
    "    while j < n2:\n",
    "        myList[k] = rList[j]\n",
    "        j += 1\n",
    "        k +=1    \n",
    "\n"
   ]
  }
 ],
 "metadata": {
  "language_info": {
   "name": "python"
  },
  "orig_nbformat": 4
 },
 "nbformat": 4,
 "nbformat_minor": 2
}
