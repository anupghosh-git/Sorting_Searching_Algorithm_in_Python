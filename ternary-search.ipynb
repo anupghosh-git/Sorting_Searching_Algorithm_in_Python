{
 "cells": [
  {
   "cell_type": "markdown",
   "metadata": {},
   "source": [
    "# Ternary Search"
   ]
  },
  {
   "cell_type": "code",
   "execution_count": 7,
   "metadata": {},
   "outputs": [],
   "source": [
    "from operator import le\n",
    "\n",
    "\n",
    "def ternary_search(left_index,right_index,myList,target_item):\n",
    "\n",
    "    if len(myList) >= 1:\n",
    "\n",
    "        middile_index_1 = left_index + (right_index  - left_index) // 3\n",
    "        middile_index_2 = right_index - (right_index - left_index) // 3\n",
    "\n",
    "        #print(left_index,right_index,middile_index_1, middile_index_2, target_item)\n",
    "\n",
    "        if target_item == myList[middile_index_1]:\n",
    "            return middile_index_1\n",
    "        if target_item == myList[middile_index_2]:\n",
    "            return middile_index_2\n",
    "\n",
    "        if target_item < myList[middile_index_1]:\n",
    "            return ternary_search(left_index, middile_index_1 - 1, myList, target_item)\n",
    "        elif target_item > myList[middile_index_2]:\n",
    "            return ternary_search(middile_index_2 + 1, right_index, myList, target_item)\n",
    "        else:\n",
    "            return ternary_search(middile_index_1 + 1, middile_index_2 - 1, myList, target_item)\n",
    "\n",
    "    return -1\n"
   ]
  },
  {
   "cell_type": "code",
   "execution_count": 8,
   "metadata": {},
   "outputs": [
    {
     "name": "stdout",
     "output_type": "stream",
     "text": [
      "The searched elements position in the List is: 9\n"
     ]
    }
   ],
   "source": [
    "myList = [1,2,3,4,5,6,7,8,9,10]\n",
    "print(f'The searched elements position in the List is: {ternary_search(0, len(myList) - 1, myList, 10)}')"
   ]
  },
  {
   "cell_type": "code",
   "execution_count": null,
   "metadata": {},
   "outputs": [],
   "source": []
  }
 ],
 "metadata": {
  "kernelspec": {
   "display_name": "Python 3.9.7 ('base')",
   "language": "python",
   "name": "python3"
  },
  "language_info": {
   "codemirror_mode": {
    "name": "ipython",
    "version": 3
   },
   "file_extension": ".py",
   "mimetype": "text/x-python",
   "name": "python",
   "nbconvert_exporter": "python",
   "pygments_lexer": "ipython3",
   "version": "3.9.7"
  },
  "orig_nbformat": 4,
  "vscode": {
   "interpreter": {
    "hash": "b3d12a30c639c3a494e062d6c4cc70e232cb1c584d6a6e220e40135ff73d5b15"
   }
  }
 },
 "nbformat": 4,
 "nbformat_minor": 2
}
