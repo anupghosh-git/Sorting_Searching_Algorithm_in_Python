{
 "cells": [
  {
   "cell_type": "markdown",
   "metadata": {},
   "source": [
    "# Binary Search"
   ]
  },
  {
   "cell_type": "code",
   "execution_count": 5,
   "metadata": {},
   "outputs": [],
   "source": [
    "def binary_search(myList, high, low, target_value):\n",
    "\n",
    "    if high >= low:\n",
    "\n",
    "        middle_index = (high + low) // 2 # integer value\n",
    "\n",
    "        if myList[middle_index] == target_value:\n",
    "            return middle_index\n",
    "        elif myList[middle_index] > target_value:\n",
    "            return binary_search(myList, middle_index - 1, low, target_value)\n",
    "        else:\n",
    "            return binary_search(myList, high, middle_index + 1, target_value)\n",
    "    else:\n",
    "        return -1\n",
    "\n",
    "\n"
   ]
  },
  {
   "cell_type": "code",
   "execution_count": 6,
   "metadata": {},
   "outputs": [
    {
     "name": "stdout",
     "output_type": "stream",
     "text": [
      "The element is in the index  3\n"
     ]
    }
   ],
   "source": [
    "myList = [4,6,8,9,100]\n",
    "target_value = 9\n",
    "\n",
    "result = binary_search(myList, len(myList) -1, 0, target_value)\n",
    "\n",
    "if result != -1:\n",
    "    print(\"The element is in the index \", str(result))\n",
    "else:\n",
    "    print(\"The element is not in the List.\")"
   ]
  },
  {
   "cell_type": "code",
   "execution_count": null,
   "metadata": {},
   "outputs": [],
   "source": []
  }
 ],
 "metadata": {
  "kernelspec": {
   "display_name": "Python 3.9.7 ('base')",
   "language": "python",
   "name": "python3"
  },
  "language_info": {
   "codemirror_mode": {
    "name": "ipython",
    "version": 3
   },
   "file_extension": ".py",
   "mimetype": "text/x-python",
   "name": "python",
   "nbconvert_exporter": "python",
   "pygments_lexer": "ipython3",
   "version": "3.9.7"
  },
  "orig_nbformat": 4,
  "vscode": {
   "interpreter": {
    "hash": "b3d12a30c639c3a494e062d6c4cc70e232cb1c584d6a6e220e40135ff73d5b15"
   }
  }
 },
 "nbformat": 4,
 "nbformat_minor": 2
}
